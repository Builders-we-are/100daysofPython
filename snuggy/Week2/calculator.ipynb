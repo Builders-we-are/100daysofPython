{
 "cells": [
  {
   "cell_type": "code",
   "execution_count": 1,
   "metadata": {},
   "outputs": [
    {
     "name": "stdout",
     "output_type": "stream",
     "text": [
      "Snuggy\n",
      "Bunny\n"
     ]
    }
   ],
   "source": [
    "# Functions with outputs\n",
    " \n",
    "def format_name(f_name,l_name):\n",
    "    print(f_name.title())\n",
    "    print(l_name.title())   \n",
    "    \n",
    "format_name('SNUggY', 'Bunny')\n",
    "     \n",
    " \n",
    "     "
   ]
  },
  {
   "cell_type": "code",
   "execution_count": 5,
   "metadata": {},
   "outputs": [
    {
     "name": "stdout",
     "output_type": "stream",
     "text": [
      "Snuggy  Bunny\n"
     ]
    }
   ],
   "source": [
    "def format_name(f_name,l_name):\n",
    "    formated_f_name = f_name.title()\n",
    "    formated_l_name = l_name.title()   \n",
    "    return f'{formated_f_name }  {formated_l_name }'\n",
    "\n",
    "formated_string = format_name('SnuGGy', 'bunnY')\n",
    "print(formated_string)"
   ]
  },
  {
   "cell_type": "code",
   "execution_count": 8,
   "metadata": {},
   "outputs": [
    {
     "name": "stdout",
     "output_type": "stream",
     "text": [
      "False\n"
     ]
    }
   ],
   "source": [
    "def is_leap(year):\n",
    "    if year % 4 == 0:\n",
    "        if year % 100 == 0:\n",
    "            if year % 400 == 0:\n",
    "                return True\n",
    "            else:\n",
    "                return False\n",
    "        else:\n",
    "            return True\n",
    "    else:\n",
    "        return False\n",
    "\n",
    "def days_in_month(year, month):\n",
    "  month_days = [31, 28, 31, 30, 31, 30, 31, 31, 30, 31, 30, 31]  \n",
    "  if is_leap(year):\n",
    "      return month_days[1] == 29\n",
    "  return month_days[month - 1]\n",
    "      \n",
    "      \n",
    "      \n",
    "      \n",
    "  \n",
    "#🚨 Do NOT change any of the code below \n",
    "year = int(input(\"Enter a year: \"))\n",
    "month = int(input(\"Enter a month: \"))\n",
    "days = days_in_month(year, month)\n",
    "print(days)"
   ]
  },
  {
   "cell_type": "code",
   "execution_count": 9,
   "metadata": {},
   "outputs": [
    {
     "name": "stdout",
     "output_type": "stream",
     "text": [
      "30\n"
     ]
    }
   ],
   "source": [
    "def is_leap(year):\n",
    "    if year % 4 == 0:\n",
    "        if year % 100 == 0:\n",
    "            if year % 400 == 0:\n",
    "                return True\n",
    "            else:\n",
    "                return False\n",
    "        else:\n",
    "            return True\n",
    "    else:\n",
    "        return False\n",
    "\n",
    "def days_in_month(year, month):\n",
    "  month_days = [31, 28, 31, 30, 31, 30, 31, 31, 30, 31, 30, 31]  \n",
    "  if is_leap(year) and month == 2:\n",
    "      return 29\n",
    "  return month_days[month - 1]\n",
    "      \n",
    "      \n",
    "      \n",
    "      \n",
    "  \n",
    "#🚨 Do NOT change any of the code below \n",
    "year = int(input(\"Enter a year: \"))\n",
    "month = int(input(\"Enter a month: \"))\n",
    "days = days_in_month(year, month)\n",
    "print(days)"
   ]
  },
  {
   "cell_type": "code",
   "execution_count": 17,
   "metadata": {},
   "outputs": [
    {
     "name": "stdout",
     "output_type": "stream",
     "text": [
      "+\n",
      "-\n",
      "/\n",
      "*\n",
      "*\n",
      "56 * 432 = 24192\n"
     ]
    }
   ],
   "source": [
    "# Calculator \n",
    "\n",
    "# Addition\n",
    "def add(n1, n2):\n",
    "    return n1 + n2\n",
    "\n",
    "# Substraction \n",
    "def sub(n1, n2):\n",
    "    return n1 - n2\n",
    "\n",
    "# Division\n",
    "def div(n1,n2):\n",
    "    return n1 / n2\n",
    "\n",
    "# Multiplication\n",
    "def mul(n1,n2):\n",
    "    return n1 * n2\n",
    "\n",
    "maths_method = {'+':add,\n",
    "                '-':sub,\n",
    "                '/':div,\n",
    "                '*':mul\n",
    "                }\n",
    "\n",
    "num1 = int(input('What is the first number ?'))\n",
    "num2 = int(input('What is the second number ?'))\n",
    "\n",
    "for key in maths_method:\n",
    "    print(key)\n",
    "    \n",
    "operation_symbol = input('Pick an operation symbol from the line above:')\n",
    "print(operation_symbol)\n",
    "# answer = eval(f'{num1} {operation_symbol} {num2}')\n",
    "# print(f'{num1} {operation_symbol} {num2} = {answer}')\n",
    "\n",
    "# Another option will be the function method\n",
    "calculation_function = maths_method[operation_symbol]\n",
    "answer = calculation_function(num1,num2)\n",
    "print(f'{num1} {operation_symbol} {num2} = {answer}')\n",
    "\n"
   ]
  },
  {
   "cell_type": "code",
   "execution_count": 22,
   "metadata": {},
   "outputs": [
    {
     "name": "stdout",
     "output_type": "stream",
     "text": [
      "\n",
      " _____________________\n",
      "|  _________________  |\n",
      "| | Pythonista   0. | |  .----------------.  .----------------.  .----------------.  .----------------. \n",
      "| |_________________| | | .--------------. || .--------------. || .--------------. || .--------------. |\n",
      "|  ___ ___ ___   ___  | | |     ______   | || |      __      | || |   _____      | || |     ______   | |\n",
      "| | 7 | 8 | 9 | | + | | | |   .' ___  |  | || |     /  \\     | || |  |_   _|     | || |   .' ___  |  | |\n",
      "| |___|___|___| |___| | | |  / .'   \\_|  | || |    / /\\ \\    | || |    | |       | || |  / .'   \\_|  | |\n",
      "| | 4 | 5 | 6 | | - | | | |  | |         | || |   / ____ \\   | || |    | |   _   | || |  | |         | |\n",
      "| |___|___|___| |___| | | |  \\ `.___.'\\  | || | _/ /    \\ \\_ | || |   _| |__/ |  | || |  \\ `.___.'\\  | |\n",
      "| | 1 | 2 | 3 | | x | | | |   `._____.'  | || ||____|  |____|| || |  |________|  | || |   `._____.'  | |\n",
      "| |___|___|___| |___| | | |              | || |              | || |              | || |              | |\n",
      "| | . | 0 | = | | / | | | '--------------' || '--------------' || '--------------' || '--------------' |\n",
      "| |___|___|___| |___| |  '----------------'  '----------------'  '----------------'  '----------------' \n",
      "|_____________________|\n",
      "\n"
     ]
    },
    {
     "ename": "ValueError",
     "evalue": "could not convert string to float: ''",
     "output_type": "error",
     "traceback": [
      "\u001b[0;31m---------------------------------------------------------------------------\u001b[0m",
      "\u001b[0;31mValueError\u001b[0m                                Traceback (most recent call last)",
      "\u001b[0;32m<ipython-input-22-428d37e13c78>\u001b[0m in \u001b[0;36m<module>\u001b[0;34m\u001b[0m\n\u001b[1;32m     48\u001b[0m             \u001b[0mcalculator\u001b[0m\u001b[0;34m(\u001b[0m\u001b[0;34m)\u001b[0m\u001b[0;34m\u001b[0m\u001b[0;34m\u001b[0m\u001b[0m\n\u001b[1;32m     49\u001b[0m \u001b[0;34m\u001b[0m\u001b[0m\n\u001b[0;32m---> 50\u001b[0;31m \u001b[0mcalculator\u001b[0m\u001b[0;34m(\u001b[0m\u001b[0;34m)\u001b[0m\u001b[0;34m\u001b[0m\u001b[0;34m\u001b[0m\u001b[0m\n\u001b[0m",
      "\u001b[0;32m<ipython-input-22-428d37e13c78>\u001b[0m in \u001b[0;36mcalculator\u001b[0;34m()\u001b[0m\n\u001b[1;32m     23\u001b[0m                 }\n\u001b[1;32m     24\u001b[0m \u001b[0;32mdef\u001b[0m \u001b[0mcalculator\u001b[0m\u001b[0;34m(\u001b[0m\u001b[0;34m)\u001b[0m\u001b[0;34m:\u001b[0m\u001b[0;34m\u001b[0m\u001b[0;34m\u001b[0m\u001b[0m\n\u001b[0;32m---> 25\u001b[0;31m     \u001b[0mnum1\u001b[0m \u001b[0;34m=\u001b[0m \u001b[0mfloat\u001b[0m\u001b[0;34m(\u001b[0m\u001b[0minput\u001b[0m\u001b[0;34m(\u001b[0m\u001b[0;34m'What is the first number ?'\u001b[0m\u001b[0;34m)\u001b[0m\u001b[0;34m)\u001b[0m\u001b[0;34m\u001b[0m\u001b[0;34m\u001b[0m\u001b[0m\n\u001b[0m\u001b[1;32m     26\u001b[0m \u001b[0;34m\u001b[0m\u001b[0m\n\u001b[1;32m     27\u001b[0m \u001b[0;34m\u001b[0m\u001b[0m\n",
      "\u001b[0;31mValueError\u001b[0m: could not convert string to float: ''"
     ]
    }
   ],
   "source": [
    "from turtle import clear\n",
    "from cal_art import logo\n",
    "\n",
    "# Addition\n",
    "def add(n1, n2):\n",
    "    return n1 + n2\n",
    "\n",
    "# Substraction \n",
    "def sub(n1, n2):\n",
    "    return n1 - n2\n",
    "\n",
    "# Division\n",
    "def div(n1,n2):\n",
    "    return n1 / n2\n",
    "\n",
    "# Multiplication\n",
    "def mul(n1,n2):\n",
    "    return n1 * n2\n",
    "\n",
    "maths_method = {'+':add,\n",
    "                '-':sub,\n",
    "                '/':div,\n",
    "                '*':mul\n",
    "                }\n",
    "def calculator():\n",
    "    print(logo)\n",
    "    num1 = float(input('What is the first number ?'))\n",
    "\n",
    "\n",
    "\n",
    "    for key in maths_method:\n",
    "        print(key)\n",
    "\n",
    "    should_continue = True\n",
    "\n",
    "    while should_continue == True:\n",
    "        operation_symbol = input('Pick an operation symbol from the line above:')\n",
    "        print(operation_symbol)\n",
    "        num2 = float(input('What is the second number ?'))\n",
    "\n",
    "        calculation_function = maths_method[operation_symbol]\n",
    "        answer = calculation_function(num1,num2)\n",
    "\n",
    "        print(f'{num1} {operation_symbol} {num2} = {answer}')\n",
    "\n",
    "        if input(f\"Type 'y' to continue calculating with the {answer}: or type 'n' to exit \") == 'y':\n",
    "            num1 = answer\n",
    "        else:\n",
    "            should_continue = False\n",
    "            clear()\n",
    "            calculator()\n",
    "            \n",
    "calculator()"
   ]
  }
 ],
 "metadata": {
  "kernelspec": {
   "display_name": "Python 3.8.8 ('base')",
   "language": "python",
   "name": "python3"
  },
  "language_info": {
   "codemirror_mode": {
    "name": "ipython",
    "version": 3
   },
   "file_extension": ".py",
   "mimetype": "text/x-python",
   "name": "python",
   "nbconvert_exporter": "python",
   "pygments_lexer": "ipython3",
   "version": "3.8.8"
  },
  "orig_nbformat": 4,
  "vscode": {
   "interpreter": {
    "hash": "ef286fdfeb4c69657c9177c8dfa954b639cd3ec27c099f8a8135b810a92e4211"
   }
  }
 },
 "nbformat": 4,
 "nbformat_minor": 2
}
