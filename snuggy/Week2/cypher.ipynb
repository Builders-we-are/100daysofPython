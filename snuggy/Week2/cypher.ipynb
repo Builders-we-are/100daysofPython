{
 "cells": [
  {
   "cell_type": "code",
   "execution_count": 15,
   "metadata": {},
   "outputs": [
    {
     "name": "stdout",
     "output_type": "stream",
     "text": [
      "Hello stranger\n",
      "How are you doing ?\n",
      "Your hardwork will pay off\n",
      "How was your day snuggy?\n",
      "What are your plans for the weekend snuggy ?\n",
      "How are you  ?  Bunny\n",
      "Where will you be spending the weekend Lagos?\n",
      "How are you  ?  snuggy\n",
      "Where will you be spending the weekend Miami?\n"
     ]
    }
   ],
   "source": [
    "# Functions with Inputs\n",
    "# Review: \n",
    "# Create a function called greet(). \n",
    "# Write 3 print statements inside the function.\n",
    "# Call the greet() function and run your code.\n",
    "def greet( ):\n",
    "    print('Hello stranger')\n",
    "    print('How are you doing ?')\n",
    "    print('Your hardwork will pay off')\n",
    "    \n",
    "greet()   \n",
    "\n",
    "\n",
    "\n",
    "\n",
    "def greet_with_name(name):\n",
    "    print(f'How was your day {name}?')\n",
    "    print(f'What are your plans for the weekend {name} ?')\n",
    "    \n",
    "greet_with_name('snuggy')\n",
    "    \n",
    "\n",
    "\n",
    "def greet_with(name,location):\n",
    "    print(f'How are you  ?  {name}')\n",
    "    print(f'Where will you be spending the weekend {location}?')\n",
    "\n",
    "greet_with(\"Bunny\",\"Lagos\")\n",
    "greet_with(location= 'Miami', name = 'snuggy')"
   ]
  },
  {
   "cell_type": "code",
   "execution_count": 21,
   "metadata": {},
   "outputs": [
    {
     "name": "stdout",
     "output_type": "stream",
     "text": [
      "You need 1077 bucket of paints\n"
     ]
    }
   ],
   "source": [
    "import math\n",
    "\n",
    "#Write your code below this line 👇\n",
    "def paint_calc(height, width, cover):\n",
    "    number_of_cans = math.ceil((height * width)/ cover)\n",
    "    print(f'You need {number_of_cans} bucket of paints')\n",
    "\n",
    "\n",
    "\n",
    "\n",
    "\n",
    "\n",
    "#Write your code above this line 👆\n",
    "# Define a function called paint_calc() so that the code below works.   \n",
    "\n",
    "# 🚨 Don't change the code below 👇\n",
    "test_h = int(input(\"Height of wall: \"))\n",
    "test_w = int(input(\"Width of wall: \"))\n",
    "coverage = 5\n",
    "paint_calc(height=test_h, width=test_w, cover=coverage)\n",
    "\n",
    "\n"
   ]
  },
  {
   "cell_type": "code",
   "execution_count": 33,
   "metadata": {},
   "outputs": [
    {
     "name": "stdout",
     "output_type": "stream",
     "text": [
      "It is  a prime number\n"
     ]
    }
   ],
   "source": [
    "# Prime number checker\n",
    "#Write your code below this line 👇\n",
    "def prime_checker(number):\n",
    "    is_prime = True\n",
    "    for n in range(2,number):\n",
    "        if number % n == 0:\n",
    "            is_prime = False\n",
    "    if is_prime:\n",
    "        print('It is  a prime number')\n",
    "    else:\n",
    "        print('It is not a prime number')    \n",
    "\n",
    "\n",
    "\n",
    "\n",
    "#Write your code above this line 👆\n",
    "    \n",
    "#Do NOT change any of the code below👇\n",
    "n = int(input(\"Check this number: \"))\n",
    "prime_checker(number=n)\n",
    "\n",
    "\n"
   ]
  },
  {
   "cell_type": "code",
   "execution_count": 11,
   "metadata": {},
   "outputs": [
    {
     "name": "stdout",
     "output_type": "stream",
     "text": [
      "The encoded text is thrl\n"
     ]
    }
   ],
   "source": [
    "from turtle import position\n",
    "\n",
    "\n",
    "alphabet = ['a', 'b', 'c', 'd', 'e', 'f', 'g', 'h', 'i', 'j', 'k', 'l', 'm', 'n', 'o', 'p', 'q', 'r', 's', 't', 'u', 'v', 'w', 'x', 'y', 'z']\n",
    "\n",
    "direction = input(\"Type 'encode' to encrypt, type 'decode' to decrypt:\\n\")\n",
    "text = input(\"Type your message:\\n\").lower()\n",
    "shift = int(input(\"Type the shift number:\\n\"))\n",
    "\n",
    "#TODO-1: Create a function called 'encrypt' that takes the 'text' and 'shift' as inputs.\n",
    "\n",
    "def encrypt(input_text, input_shift):\n",
    "    cypher = ''\n",
    "    for letter in input_text:\n",
    "        position =  alphabet.index(letter)\n",
    "        new_position = position + input_shift\n",
    "        new_letter = alphabet[new_position]  \n",
    "        cypher += new_letter\n",
    "    print(f'The encoded text is {cypher}') \n",
    "\n",
    "    #TODO-2: Inside the 'encrypt' function, shift each letter of the 'text' forwards in the alphabet by the shift amount and print the encrypted text.  \n",
    "    #e.g. \n",
    "    #plain_text = \"hello\"\n",
    "    #shift = 5\n",
    "    #cipher_text = \"mjqqt\"\n",
    "    #print output: \"The encoded text is mjqqt\"\n",
    "\n",
    "    ##HINT: How do you get the index of an item in a list:\n",
    "    #https://stackoverflow.com/questions/176918/finding-the-index-of-an-item-in-a-list\n",
    "\n",
    "    ##🐛Bug alert: What happens if you try to encode the word 'civilization'?🐛\n",
    "\n",
    "#TODO-3: Call the encrypt function and pass in the user inputs. You should be able to test the code and encrypt a message.\n",
    "encrypt(input_text = text, input_shift= shift )"
   ]
  },
  {
   "cell_type": "code",
   "execution_count": 31,
   "metadata": {},
   "outputs": [],
   "source": [
    "from base64 import encode\n",
    "\n",
    "\n",
    "alphabet = ['a', 'b', 'c', 'd', 'e', 'f', 'g', 'h', 'i', 'j', 'k', 'l', 'm', 'n', 'o', 'p', 'q', 'r', 's', 't', 'u', 'v', 'w', 'x', 'y', 'z', 'a', 'b', 'c', 'd', 'e', 'f', 'g', 'h', 'i', 'j', 'k', 'l', 'm', 'n', 'o', 'p', 'q', 'r', 's', 't', 'u', 'v', 'w', 'x', 'y', 'z']\n",
    "\n",
    "direction = input(\"Type 'encode' to encrypt, type 'decode' to decrypt:\\n\")\n",
    "text = input(\"Type your message:\\n\").lower()\n",
    "shift = int(input(\"Type the shift number:\\n\"))\n",
    "\n",
    "def encrypt(plain_text, shift_amount):\n",
    "  cipher_text = \"\"\n",
    "  for letter in plain_text:\n",
    "    position = alphabet.index(letter)\n",
    "    new_position = position + shift_amount\n",
    "    cipher_text += alphabet[new_position]\n",
    "  print(f\"The encoded text is {cipher_text}\")\n",
    "\n",
    "#TODO-1: Create a different function called 'decrypt' that takes the 'text' and 'shift' as inputs.\n",
    "def decrypt(cypher_text, shift_amount):\n",
    "    decypher_text = \"\"\n",
    "    for letter in cypher_text:\n",
    "      position = alphabet.index(letter)\n",
    "      new_position = position - shift_amount\n",
    "      decypher_text += alphabet[new_position]\n",
    "    print(f'The decoded text is {decypher_text}')\n",
    "\n",
    "  #TODO-2: Inside the 'decrypt' function, shift each letter of the 'text' *backwards* in the alphabet by the shift amount and print the decrypted text.  \n",
    "  #e.g. \n",
    "  #cipher_text = \"mjqqt\"\n",
    "  #shift = 5\n",
    "  #plain_text = \"hello\"\n",
    "  #print output: \"The decoded text is hello\"\n",
    "\n",
    "\n",
    "#TODO-3: Check if the user wanted to encrypt or decrypt the message by checking the 'direction' variable. Then call the correct function based on that 'drection' variable. You should be able to test the code to encrypt *AND* decrypt a message.\n",
    "\n",
    "\n",
    "if direction == \"encode\":\n",
    "      encrypt(plain_text=text, shift_amount=shift)\n",
    "elif direction == \"decode\":\n",
    "      decrypt(cypher_text=text, shift_amount=shift)\n",
    "      \n",
    "  "
   ]
  },
  {
   "cell_type": "code",
   "execution_count": 35,
   "metadata": {},
   "outputs": [
    {
     "name": "stdout",
     "output_type": "stream",
     "text": [
      "The decoded text is m\n",
      "The decoded text is ma\n",
      "The decoded text is mak\n",
      "The decoded text is make\n"
     ]
    }
   ],
   "source": [
    "alphabet = ['a', 'b', 'c', 'd', 'e', 'f', 'g', 'h', 'i', 'j', 'k', 'l', 'm', 'n', 'o', 'p', 'q', 'r', 's', 't', 'u', 'v', 'w', 'x', 'y', 'z', 'a', 'b', 'c', 'd', 'e', 'f', 'g', 'h', 'i', 'j', 'k', 'l', 'm', 'n', 'o', 'p', 'q', 'r', 's', 't', 'u', 'v', 'w', 'x', 'y', 'z']\n",
    "\n",
    "direction = input(\"Type 'encode' to encrypt, type 'decode' to decrypt:\\n\")\n",
    "text = input(\"Type your message:\\n\").lower()\n",
    "shift = int(input(\"Type the shift number:\\n\"))\n",
    "\n",
    "#TODO-1: Combine the encrypt() and decrypt() functions into a single function called caesar(). \n",
    "def ceaser(input_text, shift_num,cypher_direction):\n",
    "    cipher_text = \"\"\n",
    "    for letter in input_text:\n",
    "        position = alphabet.index(letter)\n",
    "        if direction == \"encode\":\n",
    "            new_position = position + shift_num\n",
    "            cipher_text += alphabet[new_position]\n",
    "            print(f\"The encoded text is {cipher_text}\")\n",
    "        elif direction == \"decode\":\n",
    "            new_position = position - shift_num\n",
    "            cipher_text += alphabet[new_position]\n",
    "            print(f\"The decoded text is {cipher_text}\")\n",
    "            \n",
    "            \n",
    "            \n",
    "            \n",
    "        \n",
    "    \n",
    "# def encrypt(plain_text, shift_amount):\n",
    "#   cipher_text = \"\"\n",
    "#   for letter in plain_text:\n",
    "#     position = alphabet.index(letter)\n",
    "#     new_position = position + shift_amount\n",
    "#     cipher_text += alphabet[new_position]\n",
    "#   print(f\"The encoded text is {cipher_text}\")\n",
    "\n",
    "# def decrypt(cipher_text, shift_amount):\n",
    "#   plain_text = \"\"\n",
    "#   for letter in cipher_text:\n",
    "#     position = alphabet.index(letter)\n",
    "#     new_position = position - shift_amount\n",
    "#     plain_text += alphabet[new_position]\n",
    "#   print(f\"The decoded text is {plain_text}\")\n",
    "\n",
    "# if direction == \"encode\":\n",
    "#   encrypt(plain_text=text, shift_amount=shift)\n",
    "# elif direction == \"decode\":\n",
    "#   decrypt(cipher_text=text, shift_amount=shift)\n",
    "\n",
    "#TODO-2: Call the caesar() function, passing over the 'text', 'shift' and 'direction' values.\n",
    "ceaser(input_text= text, shift_num= shift,cypher_direction=direction)"
   ]
  },
  {
   "cell_type": "code",
   "execution_count": 40,
   "metadata": {},
   "outputs": [
    {
     "name": "stdout",
     "output_type": "stream",
     "text": [
      "The decoded text is cqau\n"
     ]
    }
   ],
   "source": [
    "# Alternative to the solution above\n",
    "\n",
    "alphabet = ['a', 'b', 'c', 'd', 'e', 'f', 'g', 'h', 'i', 'j', 'k', 'l', 'm', 'n', 'o', 'p', 'q', 'r', 's', 't', 'u', 'v', 'w', 'x', 'y', 'z', 'a', 'b', 'c', 'd', 'e', 'f', 'g', 'h', 'i', 'j', 'k', 'l', 'm', 'n', 'o', 'p', 'q', 'r', 's', 't', 'u', 'v', 'w', 'x', 'y', 'z']\n",
    "\n",
    "direction = input(\"Type 'encode' to encrypt, type 'decode' to decrypt:\\n\")\n",
    "text = input(\"Type your message:\\n\").lower()\n",
    "shift = int(input(\"Type the shift number:\\n\"))\n",
    "\n",
    "#TODO-1: Combine the encrypt() and decrypt() functions into a single function called caesar(). \n",
    "def ceaser(input_text, shift_num,cypher_direction):\n",
    "    cipher_text = \"\"\n",
    "    if direction == \"decode\":\n",
    "            shift_num *= -1\n",
    "    for letter in input_text:\n",
    "        position = alphabet.index(letter)\n",
    "        new_position = position + shift_num\n",
    "        cipher_text += alphabet[new_position]\n",
    "    print(f'The {cypher_direction}d text is {cipher_text}')\n",
    "            \n",
    "ceaser(input_text= text, shift_num= shift,cypher_direction=direction)"
   ]
  },
  {
   "cell_type": "code",
   "execution_count": 2,
   "metadata": {},
   "outputs": [
    {
     "name": "stdout",
     "output_type": "stream",
     "text": [
      "           \n",
      " ,adPPYba, ,adPPYYba,  ,adPPYba, ,adPPYba, ,adPPYYba, 8b,dPPYba,  \n",
      "a8\"     \"\" \"\"     `Y8 a8P_____88 I8[    \"\" \"\"     `Y8 88P'   \"Y8  \n",
      "8b         ,adPPPPP88 8PP\"  `\"Y8ba,  ,adPPPPP88 88          \n",
      "\"8a,   ,aa 88,    ,88 \"8b,   ,aa aa    ]8I 88,    ,88 88          \n",
      " `\"Ybbd8\"' `\"8bbdP\"Y8  `\"Ybbd8\"' `\"YbbdP\"' `\"8bbdP\"Y8 88   \n",
      "            88             88                                 \n",
      "           \"\"             88                                 \n",
      "                          88                                 \n",
      " ,adPPYba, 88 8b,dPPYba,  88,dPPYba,   ,adPPYba, 8b,dPPYba,  \n",
      "a8\"     \"\" 88 88P'    \"8a 88P'    \"8a a8P_____88 88P'   \"Y8  \n",
      "8b         88 88       d8 88       88 8PP\" 88          \n",
      "\"8a,   ,aa 88 88b,   ,a8\" 88       88 \"8b,   ,aa 88          \n",
      " `\"Ybbd8\"' 88 88`YbbdP\"'  88       88  `\"Ybbd8\"' 88          \n",
      "              88                                             \n",
      "              88           \n",
      "\n",
      "Here's the encoded result: y\n",
      "Here's the encoded result: ym\n",
      "Here's the encoded result: ymw\n",
      "Here's the encoded result: ymwq\n",
      "GOODBYE\n"
     ]
    }
   ],
   "source": [
    "import art\n",
    "from art import logo\n",
    "\n",
    "alphabet = ['a', 'b', 'c', 'd', 'e', 'f', 'g', 'h', 'i', 'j', 'k', 'l', 'm', 'n', 'o', 'p', 'q', 'r', 's', 't', 'u', 'v', 'w', 'x', 'y', 'z', 'a', 'b', 'c', 'd', 'e', 'f', 'g', 'h', 'i', 'j', 'k', 'l', 'm', 'n', 'o', 'p', 'q', 'r', 's', 't', 'u', 'v', 'w', 'x', 'y', 'z']\n",
    "\n",
    "def caesar(start_text, shift_amount, cipher_direction):\n",
    "  end_text = \"\"\n",
    "  if cipher_direction == \"decode\":\n",
    "    shift_amount *= -1\n",
    "  for char in start_text:\n",
    "    if char in alphabet:\n",
    "        position = alphabet.index(char)\n",
    "        new_position = position + shift_amount\n",
    "        end_text += alphabet[new_position]\n",
    "    else:\n",
    "        end_text += char \n",
    "    #TODO-3: What happens if the user enters a number/symbol/space?\n",
    "    #Can you fix the code to keep the number/symbol/space when the text is encoded/decoded?\n",
    "    #e.g. start_text = \"meet me at 3\"\n",
    "    #end_text = \"•••• •• •• 3\"\n",
    "    print(f\"Here's the {cipher_direction}d result: {end_text}\")\n",
    "\n",
    "#TODO-1: Import and print the logo from art.py when the program starts.\n",
    "print(logo)\n",
    "\n",
    "#TODO-4: Can you figure out a way to ask the user if they want to restart the cipher program?\n",
    "#e.g. Type 'yes' if you want to go again. Otherwise type 'no'.\n",
    "#If they type 'yes' then ask them for the direction/text/shift again and call the caesar() function again?\n",
    "#Hint: Try creating a while loop that continues to execute the program if the user types 'yes'. \n",
    "should_end = True\n",
    "\n",
    "while should_end == True:\n",
    "    \n",
    "\n",
    "    direction = input(\"Type 'encode' to encrypt, type 'decode' to decrypt:\\n\")\n",
    "    text = input(\"Type your message:\\n\").lower()\n",
    "    shift = int(input(\"Type the shift number:\\n\"))\n",
    "\n",
    "#TODO-2: What if the user enters a shift that is greater than the number of letters in the alphabet?\n",
    "#Try running the program and entering a shift number of 45.\n",
    "#Add some code so that the program continues to work even if the user enters a shift number greater than 26. \n",
    "#Hint: Think about how you can use the modulus (%).\n",
    "    # for letter in text:\n",
    "    #     letter % 26 \n",
    "        # shift = letter % 26  \n",
    "    if shift > 26:\n",
    "        shift = shift% 26\n",
    "\n",
    "    caesar(start_text=text, shift_amount=shift, cipher_direction=direction)\n",
    "    result = input(\"Type 'Yes' if you wish to continue. Else type 'No.'\\n'\")\n",
    "    if result == 'No':\n",
    "        should_end == True\n",
    "        print('GOODBYE')"
   ]
  }
 ],
 "metadata": {
  "kernelspec": {
   "display_name": "Python 3.8.8 ('base')",
   "language": "python",
   "name": "python3"
  },
  "language_info": {
   "codemirror_mode": {
    "name": "ipython",
    "version": 3
   },
   "file_extension": ".py",
   "mimetype": "text/x-python",
   "name": "python",
   "nbconvert_exporter": "python",
   "pygments_lexer": "ipython3",
   "version": "3.8.8"
  },
  "orig_nbformat": 4,
  "vscode": {
   "interpreter": {
    "hash": "ef286fdfeb4c69657c9177c8dfa954b639cd3ec27c099f8a8135b810a92e4211"
   }
  }
 },
 "nbformat": 4,
 "nbformat_minor": 2
}
