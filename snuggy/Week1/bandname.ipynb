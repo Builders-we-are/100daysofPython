{
 "cells": [
  {
   "cell_type": "code",
   "execution_count": null,
   "metadata": {},
   "outputs": [],
   "source": [
    "#1. Create a greeting for your program.\n",
    "print('Hello! Welcome to our Band generator\\n'\n",
    "#2. Ask the user for the city that they grew up in.\n",
    "'Which city were you born in?\\n')\n",
    "place_of_birth = input('\\n')\n",
    "print(place_of_birth)\n",
    "#3. Ask the user for the name of a pet.\n",
    "print('What is the name of your pet?')\n",
    "pet_name = input('\\n')\n",
    "print(pet_name)\n",
    "#4. Combine the name of their city and pet and show them their band name.\n",
    "band_name = place_of_birth + pet_name \n",
    "#5. Make sure the input cursor shows on a new line, see the example at:\n",
    "#   https://replit.com/@appbrewery/band-name-generator-end\n",
    "print('Your probable band name is:' + band_name)"
   ]
  }
 ],
 "metadata": {
  "kernelspec": {
   "display_name": "Python 3.8.8 ('base')",
   "language": "python",
   "name": "python3"
  },
  "language_info": {
   "name": "python",
   "version": "3.8.8"
  },
  "orig_nbformat": 4,
  "vscode": {
   "interpreter": {
    "hash": "ef286fdfeb4c69657c9177c8dfa954b639cd3ec27c099f8a8135b810a92e4211"
   }
  }
 },
 "nbformat": 4,
 "nbformat_minor": 2
}
