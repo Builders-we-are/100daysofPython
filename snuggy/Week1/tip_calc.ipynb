{
 "cells": [
  {
   "cell_type": "code",
   "execution_count": null,
   "metadata": {},
   "outputs": [],
   "source": [
    "#If the bill was $150.00, split between 5 people, with 12% tip. \n",
    "from math import cos\n",
    "from operator import ne\n",
    "\n",
    "#Each person should pay (150.00 / 5) * 1.12 = 33.6\n",
    "\n",
    "#Format the result to 2 decimal places = 33.60\n",
    "\n",
    "#Tip: There are 2 ways to round a number. You might have to do some Googling to solve this.💪\n",
    "\n",
    "#Write your code below this line \n",
    "\n",
    "# Welcome message and cost of the bill\n",
    "print('This is the tip calculator.. Feel free to find your share !')\n",
    "bill = input('What is the cost of the goods ? £')\n",
    "print(bill)\n",
    "#percentage for the tip\n",
    "tip_bill = input('How much is our service tip in percentage?')\n",
    "print(tip_bill)\n",
    "percen_bill = (int(tip_bill) + 100) / 100\n",
    "print(percen_bill)\n",
    "# new bill after the tip \n",
    "new_bill = float(percen_bill) * float(bill)\n",
    "print(new_bill)\n",
    "num_per = input('How many people will share the cost?')\n",
    "print(num_per)\n",
    "cost_per_person = new_bill / int(num_per)\n",
    "print(cost_per_person)\n",
    "round(cost_per_person,2)\n",
    "new_cost_per_person ='{:.2f}'.format(cost_per_person)\n",
    "print(f'Each person will pay £{new_cost_per_person}')"
   ]
  }
 ],
 "metadata": {
  "kernelspec": {
   "display_name": "Python 3.8.8 ('base')",
   "language": "python",
   "name": "python3"
  },
  "language_info": {
   "name": "python",
   "version": "3.8.8"
  },
  "orig_nbformat": 4,
  "vscode": {
   "interpreter": {
    "hash": "ef286fdfeb4c69657c9177c8dfa954b639cd3ec27c099f8a8135b810a92e4211"
   }
  }
 },
 "nbformat": 4,
 "nbformat_minor": 2
}
