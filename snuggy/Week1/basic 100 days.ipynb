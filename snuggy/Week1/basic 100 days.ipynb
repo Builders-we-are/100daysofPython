{
 "cells": [
  {
   "cell_type": "code",
   "execution_count": 1,
   "metadata": {},
   "outputs": [
    {
     "data": {
      "text/plain": [
       "'Emmanuel'"
      ]
     },
     "execution_count": 1,
     "metadata": {},
     "output_type": "execute_result"
    }
   ],
   "source": [
    "input('What is your name?') \n"
   ]
  },
  {
   "cell_type": "code",
   "execution_count": 5,
   "metadata": {},
   "outputs": [
    {
     "name": "stdout",
     "output_type": "stream",
     "text": [
      "6\n"
     ]
    }
   ],
   "source": [
    "name = input('what is your name:?')\n",
    "print(len(name))"
   ]
  },
  {
   "cell_type": "code",
   "execution_count": 6,
   "metadata": {},
   "outputs": [
    {
     "name": "stdout",
     "output_type": "stream",
     "text": [
      "12\n"
     ]
    }
   ],
   "source": [
    "print(len(input('What is your name?')))"
   ]
  },
  {
   "cell_type": "code",
   "execution_count": 14,
   "metadata": {},
   "outputs": [
    {
     "name": "stdout",
     "output_type": "stream",
     "text": [
      "a: 7\n",
      "b: 5\n"
     ]
    }
   ],
   "source": [
    "# 🚨 Don't change the code below 👇\n",
    "a = input(\"a: \")\n",
    "b = input(\"b: \")\n",
    "# 🚨 Don't change the code above 👆\n",
    "\n",
    "####################################\n",
    "#Write your code below this line 👇\n",
    "c = a\n",
    "a = b\n",
    "b = c\n",
    "\n",
    "\n",
    "#Write your code above this line 👆\n",
    "####################################\n",
    "\n",
    "# 🚨 Don't change the code below 👇\n",
    "print(\"a: \" + a)\n",
    "print(\"b: \" + b)"
   ]
  },
  {
   "cell_type": "code",
   "execution_count": 38,
   "metadata": {},
   "outputs": [
    {
     "name": "stdout",
     "output_type": "stream",
     "text": [
      "Hello! Welcome to our Band generator\n",
      "Which city were you born in?\n",
      "\n",
      "m\n",
      "What is the name of your pet?\n",
      "l\n",
      "Your probable band name is:ml\n"
     ]
    }
   ],
   "source": [
    "#1. Create a greeting for your program.\n",
    "print('Hello! Welcome to our Band generator\\n'\n",
    "#2. Ask the user for the city that they grew up in.\n",
    "'Which city were you born in?\\n')\n",
    "place_of_birth = input('\\n')\n",
    "print(place_of_birth)\n",
    "#3. Ask the user for the name of a pet.\n",
    "print('What is the name of your pet?')\n",
    "pet_name = input('\\n')\n",
    "print(pet_name)\n",
    "#4. Combine the name of their city and pet and show them their band name.\n",
    "band_name = place_of_birth + pet_name \n",
    "#5. Make sure the input cursor shows on a new line, see the example at:\n",
    "#   https://replit.com/@appbrewery/band-name-generator-end\n",
    "print('Your probable band name is:' + band_name)"
   ]
  },
  {
   "cell_type": "code",
   "execution_count": 2,
   "metadata": {},
   "outputs": [
    {
     "name": "stdout",
     "output_type": "stream",
     "text": [
      "Your name has 12 characters\n"
     ]
    }
   ],
   "source": [
    "num_char = len(input('What is your name ?'))\n",
    "print('Your name has ' + str(num_char)+ ' characters')"
   ]
  },
  {
   "cell_type": "code",
   "execution_count": 3,
   "metadata": {},
   "outputs": [
    {
     "name": "stdout",
     "output_type": "stream",
     "text": [
      "8\n"
     ]
    }
   ],
   "source": [
    "# 🚨 Don't change the code below 👇\n",
    "two_digit_number = input(\"Type a two digit number: \")\n",
    "# 🚨 Don't change the code above 👆\n",
    "\n",
    "####################################\n",
    "#Write your code below this line 👇\n",
    "print(int(two_digit_number[0]) + int(two_digit_number[1]))"
   ]
  },
  {
   "cell_type": "code",
   "execution_count": 15,
   "metadata": {},
   "outputs": [
    {
     "name": "stdout",
     "output_type": "stream",
     "text": [
      "Your Body mass index is : 25kg/m**2\n"
     ]
    }
   ],
   "source": [
    "# 🚨 Don't change the code below 👇\n",
    "height = input(\"enter your height in m: \")\n",
    "weight = input(\"enter your weight in kg: \")\n",
    "# 🚨 Don't change the code above 👆\n",
    "\n",
    "#Write your code below this line 👇\n",
    "BMI = float(weight) / float(height) ** 2\n",
    "bmi = int(BMI)\n",
    "print('Your Body mass index is : ' + str(bmi)+ 'kg/m**2')"
   ]
  },
  {
   "cell_type": "code",
   "execution_count": 18,
   "metadata": {},
   "outputs": [
    {
     "name": "stdout",
     "output_type": "stream",
     "text": [
      "20805\n",
      "2964\n",
      "684\n",
      "You have 20805 days, 2964 weeks , and 684 monthsleft\n"
     ]
    }
   ],
   "source": [
    "# 🚨 Don't change the code below 👇\n",
    "age = input(\"What is your current age?\")\n",
    "# 🚨 Don't change the code above 👆\n",
    "\n",
    "#Write your code below this line 👇\n",
    "\n",
    "time_line = 90\n",
    "differnce = time_line - int(age)\n",
    "diff_days = differnce * 365\n",
    "diff_weeks = differnce * 52 \n",
    "diff_months = differnce * 12 \n",
    "print(diff_days)\n",
    "print(diff_weeks)\n",
    "print(diff_months)\n",
    "\n",
    "print(f'You have {diff_days} days, {diff_weeks} weeks , and {diff_months} months left')\n",
    "\n",
    "\n",
    "\n",
    "\n"
   ]
  },
  {
   "cell_type": "code",
   "execution_count": 31,
   "metadata": {},
   "outputs": [
    {
     "name": "stdout",
     "output_type": "stream",
     "text": [
      "This is the tip calculator.. Feel free to find your share !\n",
      "150\n",
      "12\n",
      "1.12\n",
      "168.00000000000003\n",
      "5\n",
      "33.60000000000001\n",
      "Each person will pay £33.60\n"
     ]
    }
   ],
   "source": [
    "#If the bill was $150.00, split between 5 people, with 12% tip. \n",
    "from math import cos\n",
    "from operator import ne\n",
    "\n",
    "#Each person should pay (150.00 / 5) * 1.12 = 33.6\n",
    "\n",
    "#Format the result to 2 decimal places = 33.60\n",
    "\n",
    "#Tip: There are 2 ways to round a number. You might have to do some Googling to solve this.💪\n",
    "\n",
    "#Write your code below this line \n",
    "\n",
    "# Welcome message and cost of the bill\n",
    "print('This is the tip calculator.. Feel free to find your share !')\n",
    "bill = input('What is the cost of the goods ? £')\n",
    "print(bill)\n",
    "#percentage for the tip\n",
    "tip_bill = input('How much is our service tip in percentage?')\n",
    "print(tip_bill)\n",
    "percen_bill = (int(tip_bill) + 100) / 100\n",
    "print(percen_bill)\n",
    "# new bill after the tip \n",
    "new_bill = float(percen_bill) * float(bill)\n",
    "print(new_bill)\n",
    "num_per = input('How many people will share the cost?')\n",
    "print(num_per)\n",
    "cost_per_person = new_bill / int(num_per)\n",
    "print(cost_per_person)\n",
    "round(cost_per_person,2)\n",
    "new_cost_per_person ='{:.2f}'.format(cost_per_person)\n",
    "print(f'Each person will pay £{new_cost_per_person}')\n"
   ]
  },
  {
   "cell_type": "code",
   "execution_count": 36,
   "metadata": {},
   "outputs": [
    {
     "name": "stdout",
     "output_type": "stream",
     "text": [
      "6 is an even number\n"
     ]
    }
   ],
   "source": [
    "# 🚨 Don't change the code below 👇\n",
    "number = int(input(\"Which number do you want to check? \"))\n",
    "# 🚨 Don't change the code above 👆\n",
    "\n",
    "#Write your code below this line 👇\n",
    "if number % 2 == 0:\n",
    "    print(f'{number} is an even number')\n",
    "else:\n",
    "    print(f'{number} is an odd number')"
   ]
  },
  {
   "cell_type": "code",
   "execution_count": 47,
   "metadata": {},
   "outputs": [
    {
     "name": "stdout",
     "output_type": "stream",
     "text": [
      "1.98\n",
      "223\n",
      "56.88195082134476\n",
      "Your Body mass index is : 56.88195082134476kg/m**2\n",
      "You are critically obese\n"
     ]
    }
   ],
   "source": [
    "# 🚨 Don't change the code below 👇\n",
    "height = input(\"enter your height in m: \")\n",
    "weight = input(\"enter your weight in kg: \")\n",
    "# 🚨 Don't change the code above 👆\n",
    "\n",
    "#Write your code below this line 👇\n",
    "BMI = float(weight) / float(height) ** 2\n",
    "bmi = float(BMI)\n",
    "print(height)\n",
    "print(weight)\n",
    "print(bmi)\n",
    "print('Your Body mass index is : ' + str(bmi)+ 'kg/m**2')\n",
    "# Checking for conditions \n",
    "if bmi < 18.5:\n",
    "    print('You are underweight')\n",
    "elif bmi >= 18.5 and bmi < 25.0:\n",
    "    print('You have normal weight')\n",
    "elif bmi >= 25.0 and bmi < 30.0:\n",
    "    print('You are overweight')\n",
    "elif bmi > 30.0 and bmi < 35.0:\n",
    "    print('You are obese')\n",
    "else:\n",
    "    print('You are critically obese')\n",
    "     \n",
    "    "
   ]
  },
  {
   "cell_type": "code",
   "execution_count": 44,
   "metadata": {},
   "outputs": [
    {
     "name": "stdout",
     "output_type": "stream",
     "text": [
      "2026 is not a leap year\n",
      "Would you like to place an order? Y or N \n"
     ]
    }
   ],
   "source": [
    "# 🚨 Don't change the code below 👇\n",
    "year = int(input(\"Which year do you want to check? \"))\n",
    "# 🚨 Don't change the code above 👆\n",
    "\n",
    "#Write your code below this line 👇\n",
    "if year % 4 == 0:\n",
    "    if year % 100 == 0:\n",
    "        #print(f'{year} is a leap year')\n",
    "        if year % 400 == 0:\n",
    "            print(f'{year} is a Leap year ')\n",
    "        else:\n",
    "            print(f'{year} is not a leap year')\n",
    "    else:\n",
    "        print(f'{year} is a leap year')\n",
    "else:\n",
    "    print(f'{year} is not a leap year')\n",
    "    "
   ]
  },
  {
   "cell_type": "code",
   "execution_count": 45,
   "metadata": {},
   "outputs": [
    {
     "name": "stdout",
     "output_type": "stream",
     "text": [
      "Welcome to Python Pizza Deliveries!\n",
      "Thank you for visiting us today\n"
     ]
    }
   ],
   "source": [
    "\n",
    "# 🚨 Don't change the code below 👇\n",
    "from re import S\n",
    "from tkinter import Y\n",
    "from unicodedata import east_asian_width\n",
    "\n",
    "\n",
    "print(\"Welcome to Python Pizza Deliveries!\")\n",
    "order = input('Will you like to have some pizza sir  Y or N?')\n",
    "size = input(\"What size pizza do you want? S, M, or L \")\n",
    "add_pepperoni = input(\"Do you want pepperoni? Y or N \")\n",
    "extra_cheese = input(\"Do you want extra cheese? Y or N \")\n",
    "# 🚨 Don't change the code above 👆\n",
    "price = 0\n",
    "\n",
    "#Write your code below this line 👇\n",
    "if order == 'Y':\n",
    "    if size == 'S':\n",
    "        price = 15\n",
    "    elif size == 'M':\n",
    "        price = 20\n",
    "    else:\n",
    "        price = 25\n",
    "    \n",
    "    if add_pepperoni == 'Y':\n",
    "        if size == 'S':\n",
    "            price +=2\n",
    "        else:\n",
    "            price +=3\n",
    "    if extra_cheese == 'Y':\n",
    "        price += 1\n",
    "        \n",
    "    print(f'Your pizza cost £{price}')\n",
    "\n",
    "else:\n",
    "    print('Thank you for visiting us today')\n",
    "    \n",
    "    \n",
    "\n",
    "        \n",
    "\n"
   ]
  },
  {
   "cell_type": "code",
   "execution_count": 31,
   "metadata": {},
   "outputs": [
    {
     "name": "stdout",
     "output_type": "stream",
     "text": [
      "Welcome to the Love Calculator!\n",
      "maureen iheoma\n",
      "kingsley okechi\n",
      "maureen iheomakingsley okechi\n",
      "78\n",
      "Your score is 78, you go together like coke and mentos.\n"
     ]
    }
   ],
   "source": [
    "# 🚨 Don't change the code below 👇\n",
    "print(\"Welcome to the Love Calculator!\")\n",
    "name1 = input(\"What is your name? \\n\")\n",
    "name2 = input(\"What is their name? \\n\")\n",
    "# 🚨 Don't change the code above 👆\n",
    "\n",
    "#Write your code below this line 👇\n",
    "first_name = name1.lower()\n",
    "second_name = name2.lower()\n",
    "\n",
    "print(first_name)\n",
    "print(second_name)\n",
    "new_name = first_name + second_name\n",
    "print(new_name)\n",
    "true = (new_name.count('u') + new_name.count('t') + new_name.count('r') + new_name.count('e') )\n",
    "love = (new_name.count('l') + new_name.count('o') + new_name.count('v') + new_name.count('e') )\n",
    "true_love = str(true) + str(love )\n",
    "tru_love = int(true_love)\n",
    "print(tru_love)\n",
    "if tru_love > 10 and tru_love < 90:\n",
    "    print(f'Your score is {true_love}, you go together like coke and mentos.')\n",
    "elif tru_love > 40 and tru_love < 50:\n",
    "    print(f'Your score is {true_love}, you are alright together.')\n",
    "else:  \n",
    "    print(f'Your score is {true_love}:')"
   ]
  },
  {
   "cell_type": "code",
   "execution_count": 50,
   "metadata": {},
   "outputs": [
    {
     "name": "stdout",
     "output_type": "stream",
     "text": [
      "\n",
      "*******************************************************************************\n",
      "          |                   |                  |                     |\n",
      " _________|________________.=\"\"_;=.______________|_____________________|_______\n",
      "|                   |  ,-\"_,=\"\"     `\"=.|                  |\n",
      "|___________________|__\"=._o`\"-._        `\"=.______________|___________________\n",
      "          |                `\"=._o`\"=._      _`\"=._                     |\n",
      " _________|_____________________:=._o \"=._.\"_.-=\"'\"=.__________________|_______\n",
      "|                   |    __.--\" , ; `\"=._o.\" ,-\"\"\"-._ \".   |\n",
      "|___________________|_._\"  ,. .` ` `` ,  `\"-._\"-._   \". '__|___________________\n",
      "          |           |o`\"=._` , \"` `; .\". ,  \"-._\"-._; ;              |\n",
      " _________|___________| ;`-.o`\"=._; .\" ` '`.\"\\` . \"-._ /_______________|_______\n",
      "|                   | |o;    `\"-.o`\"=._``  '` \" ,__.--o;   |\n",
      "|___________________|_| ;     (#) `-.o `\"=.`_.--\"_o.-; ;___|___________________\n",
      "____/______/______/___|o;._    \"      `\".o|o_.--\"    ;o;____/______/______/____\n",
      "/______/______/______/_\"=._o--._        ; | ;        ; ;/______/______/______/_\n",
      "____/______/______/______/__\"=._o--._   ;o|o;     _._;o;____/______/______/____\n",
      "/______/______/______/______/____\"=._o._; | ;_.--\"o.--\"_/______/______/______/_\n",
      "____/______/______/______/______/_____\"=.o|o_.--\"\"___/______/______/______/____\n",
      "/______/______/______/______/______/______/______/______/______/______/_____ /\n",
      "*******************************************************************************\n",
      "\n",
      "Welcome to the Naija Island of Treasure\n",
      "me, you have one goal, which is to retrieve the hidden treasure. \n",
      "  As always, me, you have some obstacles to overcome.\n",
      "Let the game begin. Goodluck\n",
      "Too  bad, You were very close but you have been eletrocuted\n"
     ]
    }
   ],
   "source": [
    "from turtle import left\n",
    "\n",
    "\n",
    "print('''\n",
    "*******************************************************************************\n",
    "          |                   |                  |                     |\n",
    " _________|________________.=\"\"_;=.______________|_____________________|_______\n",
    "|                   |  ,-\"_,=\"\"     `\"=.|                  |\n",
    "|___________________|__\"=._o`\"-._        `\"=.______________|___________________\n",
    "          |                `\"=._o`\"=._      _`\"=._                     |\n",
    " _________|_____________________:=._o \"=._.\"_.-=\"'\"=.__________________|_______\n",
    "|                   |    __.--\" , ; `\"=._o.\" ,-\"\"\"-._ \".   |\n",
    "|___________________|_._\"  ,. .` ` `` ,  `\"-._\"-._   \". '__|___________________\n",
    "          |           |o`\"=._` , \"` `; .\". ,  \"-._\"-._; ;              |\n",
    " _________|___________| ;`-.o`\"=._; .\" ` '`.\"\\` . \"-._ /_______________|_______\n",
    "|                   | |o;    `\"-.o`\"=._``  '` \" ,__.--o;   |\n",
    "|___________________|_| ;     (#) `-.o `\"=.`_.--\"_o.-; ;___|___________________\n",
    "____/______/______/___|o;._    \"      `\".o|o_.--\"    ;o;____/______/______/____\n",
    "/______/______/______/_\"=._o--._        ; | ;        ; ;/______/______/______/_\n",
    "____/______/______/______/__\"=._o--._   ;o|o;     _._;o;____/______/______/____\n",
    "/______/______/______/______/____\"=._o._; | ;_.--\"o.--\"_/______/______/______/_\n",
    "____/______/______/______/______/_____\"=.o|o_.--\"\"___/______/______/______/____\n",
    "/______/______/______/______/______/______/______/______/______/______/_____ /\n",
    "*******************************************************************************\n",
    "''')\n",
    "\n",
    "print('Welcome to the Naija Island of Treasure')\n",
    "name = input('Please enter your name')\n",
    "print(f'{name}, you have one goal, which is to retrieve the hidden treasure. \\n  As always, {name}, you have some obstacles to overcome.')\n",
    "print('Let the game begin. Goodluck')\n",
    "\n",
    "jungle = input('You are stuck in the jungle, which way would you take to safety? Left or Right').capitalize()\n",
    "# jungle_move = jungle.capitalize()\n",
    "#lake = input('You have managed to make it to the lake, how will you make it out of here ? Swim or Wait').capitalize()\n",
    "# lake_move = lake.capitalize()\n",
    "#freak_house = input('Its almost over,to make it to the treasure you have to get past one of the doors, which is it ? Red, Blue, Yellow').capitalize()\n",
    "# freak_house_move = freak_house.capitalize()\n",
    "\n",
    "if jungle == 'Left':\n",
    "    lake = input('You have managed to make it to the lake, how will you make it out of here ? Swim or Wait').capitalize()\n",
    "    if lake == 'Wait':\n",
    "        freak_house = input('Its almost over,to make it to the treasure you have to get past one of the doors, which is it ? Red, Blue, Yellow').capitalize()\n",
    "        if freak_house == 'Yellow':\n",
    "            print('Congratulations!!!.')\n",
    "        elif freak_house == 'Blue':\n",
    "            print('End of the Road... You open the door to a loaded trap door')\n",
    "        else:\n",
    "            print('Too  bad, You were very close but you have been eletrocuted')\n",
    "    else:\n",
    "        print('So sad to see that you were eaten by hungry crocodiles')\n",
    "else:\n",
    "    print('Poor fellow, you were served for breakfast by the king of the jungle')\n",
    "        "
   ]
  },
  {
   "cell_type": "code",
   "execution_count": 72,
   "metadata": {},
   "outputs": [
    {
     "name": "stdout",
     "output_type": "stream",
     "text": [
      "[' Its Head']\n"
     ]
    }
   ],
   "source": [
    "#Write your code below this line 👇\n",
    "#Hint: Remember to import the random module first. 🎲\n",
    "\n",
    "import random\n",
    "h = ' Its Head'\n",
    "t = 'Its Tail'\n",
    "coin = [h,t]\n",
    "print(random.choices(coin))\n",
    "\n"
   ]
  },
  {
   "cell_type": "code",
   "execution_count": 66,
   "metadata": {},
   "outputs": [
    {
     "name": "stdout",
     "output_type": "stream",
     "text": [
      "You picked Heads\n"
     ]
    }
   ],
   "source": [
    "import random\n",
    "\n",
    "random_pick = random.randint(0,1)\n",
    "\n",
    "if random_pick == 1:\n",
    "    print('You picked Heads')\n",
    "else:\n",
    "    print('You picked Tails')\n"
   ]
  },
  {
   "cell_type": "code",
   "execution_count": 104,
   "metadata": {},
   "outputs": [
    {
     "name": "stdout",
     "output_type": "stream",
     "text": [
      "['Ade', 'Bayo', 'Chris', 'Dayo', 'Emma', 'Femi', 'Gemma', 'Habib', 'Iyke', 'Jemi', 'kemi', 'Layo', 'Mike', 'Nosa', 'Ola', 'Pelumi', 'Queen', 'Rita', 'Seyi', 'Tayo', 'Uche', 'Vivian', 'Wale', 'Yemi', 'Zainab']\n",
      "25\n",
      "Zainab\n",
      "Dayo is resposible for the bill\n"
     ]
    }
   ],
   "source": [
    "import random\n",
    "\n",
    "# Ade,Bayo,Chris,Dayo,Emma,Femi,Gemma,Habib,Iyke,Jemi,kemi,Layo,Mike,Nosa,Ola,Pelumi,Queen,Rita,Seyi,Tayo,Uche,Vivian,Wale,Yemi,Zainab\n",
    "# Split string method\n",
    "names_string = input(\"Give me everybody's names, separated by a comma. \")\n",
    "names = names_string.split(\", \")\n",
    "# 🚨 Don't change the code above 👆\n",
    "\n",
    "#Write your code below this line 👇\n",
    "print(names)\n",
    "print(len(names))\n",
    "print(names[-1])\n",
    "num_ind = len(names)\n",
    "random_pay = (random.randint(0 , num_ind))\n",
    "print(f'{names[random_pay]} is resposible for the bill')"
   ]
  },
  {
   "cell_type": "code",
   "execution_count": 115,
   "metadata": {},
   "outputs": [
    {
     "name": "stdout",
     "output_type": "stream",
     "text": [
      "['X', '⬜️', '⬜️']\n",
      "['⬜️', '⬜️', '⬜️']\n",
      "['⬜️', '⬜️', '⬜️']\n"
     ]
    }
   ],
   "source": [
    "# 🚨 Don't change the code below 👇\n",
    "row1 = [\"⬜️\",\"⬜️\",\"⬜️\"]\n",
    "row2 = [\"⬜️\",\"⬜️\",\"⬜️\"]\n",
    "row3 = [\"⬜️\",\"⬜️\",\"⬜️\"]\n",
    "map = [row1, row2, row3]\n",
    "# print(f\"{row1}\\n{row2}\\n{row3}\")\n",
    "position = input(\"Where do you want to put the treasure? \")\n",
    "# 🚨 Don't change the code above 👆\n",
    "\n",
    "#Write your code below this row 👇\n",
    "# map[2][2] = ['x']\n",
    "first = int(position[1])\n",
    "second = int(position[1])\n",
    "\n",
    "row_pick = map[second - 1]\n",
    "row_pick [first - 1] = 'X'\n",
    "\n",
    "#Write your code above this row 👆\n",
    "\n",
    "# 🚨 Don't change the code below 👇\n",
    "print(f\"{row1}\\n{row2}\\n{row3}\")"
   ]
  },
  {
   "cell_type": "code",
   "execution_count": 18,
   "metadata": {},
   "outputs": [
    {
     "name": "stdout",
     "output_type": "stream",
     "text": [
      "Welcome to the Rock, Paper ,Scissor game\n",
      "\n",
      "Would you like to go first\n",
      "What do you choose? Its 0 for Rock, 1 for Paper, and 2 for Scissor\n",
      "5\n",
      "You entered and invalid number\n"
     ]
    }
   ],
   "source": [
    "import random\n",
    "\n",
    "rock = '''\n",
    "    _______\n",
    "---'   ____)\n",
    "      (_____)\n",
    "      (_____)\n",
    "      (____)\n",
    "---.__(___)\n",
    "'''\n",
    "\n",
    "paper = '''\n",
    "    _______\n",
    "---'   ____)____\n",
    "          ______)\n",
    "          _______)\n",
    "         _______)\n",
    "---.__________)\n",
    "'''\n",
    "\n",
    "scissors = '''\n",
    "    _______\n",
    "---'   ____)____\n",
    "          ______)\n",
    "       __________)\n",
    "      (____)\n",
    "---.__(___)\n",
    "'''\n",
    "\n",
    "#Write your code below this line 👇\n",
    "\n",
    "print('Welcome to the Rock, Paper ,Scissor game\\n')\n",
    "print('Would you like to go first')\n",
    "\n",
    "print('What do you choose? Its 0 for Rock, 1 for Paper, and 2 for Scissor')\n",
    "player = int(input('0 , 1 or 2'))\n",
    "print(player)\n",
    "if player >= 3 or player < 0:\n",
    "    print('You entered and invalid number')\n",
    "else:\n",
    "    print('You are on track') \n",
    "\n",
    "    if player == 0:\n",
    "        print(f' You choose rock {rock}')\n",
    "    elif player == 1:\n",
    "        print(f'You choose paper {paper}')\n",
    "    else:\n",
    "        print(f'You choose scissors {scissors}')\n",
    "        \n",
    "    computer = ['rock','paper','scissors']\n",
    "    com_num = len(computer)\n",
    "    com_pick = random.randint(0,com_num -1 )\n",
    "    print(com_pick)\n",
    "    if com_pick == 0:\n",
    "        print(f'com_puter choose rock {rock}')\n",
    "    elif com_pick == 1:\n",
    "        print(f'com_puter choose paper {paper}')\n",
    "    else:\n",
    "        print(f'com_puter choose scissors {scissors}')\n",
    "\n",
    "    # Rock wins against scissors\n",
    "    # Scissors win against paper\n",
    "    # Paper wins against rock.\n",
    "\n",
    "    winner = [player , com_pick]\n",
    "    print(winner)\n",
    "\n",
    "    if winner[0] == 0 and winner[1] == 2:\n",
    "        print(f'You win ')\n",
    "    elif winner[0] == 1 and winner[1] == 2:\n",
    "        print(f'You lose')\n",
    "    elif winner[0] == 1 and winner[1] == 0:\n",
    "        print(f'You win')\n",
    "    elif winner[0] == 2 and winner[1] == 1:\n",
    "        print('You win')\n",
    "    elif winner[0] == 2 and winner[1] == 0:\n",
    "        print('You lose')\n",
    "    elif winner[0] == 2 and winner[1] == 1:\n",
    "        print('You lose')\n",
    "    else:\n",
    "        print('its a tie ')"
   ]
  },
  {
   "cell_type": "code",
   "execution_count": 32,
   "metadata": {},
   "outputs": [
    {
     "name": "stdout",
     "output_type": "stream",
     "text": [
      "[134, 193, 183, 184, 198, 128, 134, 193, 198, 189, 198, 124, 186]\n",
      "134\n",
      "193\n",
      "183\n",
      "184\n",
      "198\n",
      "128\n",
      "134\n",
      "193\n",
      "198\n",
      "189\n",
      "198\n",
      "124\n",
      "186\n",
      "2242\n",
      "13\n",
      "172.46153846153845\n",
      "The average of the students height is 172.46\n"
     ]
    }
   ],
   "source": [
    "# 134 193 183 184 198 128 134 193 198 189 198 124 186\n",
    "# 🚨 Don't change the code below 👇\n",
    "student_heights = input(\"Input a list of student heights \").split()\n",
    "for n in range(0, len(student_heights)):\n",
    "  student_heights[n] = int(student_heights[n])\n",
    "# 🚨 Don't change the code above 👆\n",
    "print(student_heights)\n",
    "sum = 0\n",
    "count = 0\n",
    "#Write your code below this row 👇\n",
    "for height in student_heights:\n",
    "    print(height)\n",
    "    sum += height\n",
    "print(sum)\n",
    "sum / (student_heights[-1])\n",
    "for items in student_heights:\n",
    "    count +=1 \n",
    "print(count)\n",
    "average = sum / count\n",
    "print(average)\n",
    "# estimated_average  = '{:.2f}'.format(average)\n",
    "new_avg = round(average,2)\n",
    "print(f'The average of the students height is {new_avg}')"
   ]
  },
  {
   "cell_type": "code",
   "execution_count": 39,
   "metadata": {},
   "outputs": [
    {
     "name": "stdout",
     "output_type": "stream",
     "text": [
      "[30, 45, 22, 32, 85, 44, 25, 9, 95, 23, 46, 54, 44, 24, 74]\n",
      "The highest score in the class is :95\n"
     ]
    }
   ],
   "source": [
    "# 30 45 22 32 85 44 25 09 95 23 46 54 44 24 74 \n",
    "# 🚨 Don't change the code below 👇 \n",
    "student_scores = input(\"Input a list of student scores \").split()\n",
    "for n in range(0, len(student_scores)):\n",
    "  student_scores[n] = int(student_scores[n])\n",
    "print(student_scores)\n",
    "# 🚨 Don't change the code above 👆\n",
    "max_score = None \n",
    "# None is a datatype which is not the same as 0, but is a null value  \n",
    "#Write your code below this row 👇\n",
    "for score in student_scores:\n",
    "    if (max_score is None or score > max_score):\n",
    "        max_score = score\n",
    "print(f'The highest score in the class is : {max_score}')\n",
    "\n"
   ]
  },
  {
   "cell_type": "code",
   "execution_count": 50,
   "metadata": {},
   "outputs": [
    {
     "name": "stdout",
     "output_type": "stream",
     "text": [
      "2550\n"
     ]
    }
   ],
   "source": [
    "# total sum for even numbers \n",
    "\n",
    "total_sum = 0\n",
    "\n",
    "for number in range(1, 101):\n",
    "    if (number %2) == 0:\n",
    "        total_sum +=number\n",
    "print(total_sum)"
   ]
  },
  {
   "cell_type": "code",
   "execution_count": 63,
   "metadata": {},
   "outputs": [
    {
     "name": "stdout",
     "output_type": "stream",
     "text": [
      "1\n",
      "2\n",
      "Fizz\n",
      "4\n",
      "Buzz\n",
      "Fizz\n",
      "7\n",
      "8\n",
      "Fizz\n",
      "Buzz\n",
      "11\n",
      "Fizz\n",
      "13\n",
      "14\n",
      "FizzBuzz\n",
      "16\n",
      "17\n",
      "Fizz\n",
      "19\n",
      "Buzz\n",
      "Fizz\n",
      "22\n",
      "23\n",
      "Fizz\n",
      "Buzz\n",
      "26\n",
      "Fizz\n",
      "28\n",
      "29\n",
      "FizzBuzz\n",
      "31\n",
      "32\n",
      "Fizz\n",
      "34\n",
      "Buzz\n",
      "Fizz\n",
      "37\n",
      "38\n",
      "Fizz\n",
      "Buzz\n",
      "41\n",
      "Fizz\n",
      "43\n",
      "44\n",
      "FizzBuzz\n",
      "46\n",
      "47\n",
      "Fizz\n",
      "49\n",
      "Buzz\n",
      "Fizz\n",
      "52\n",
      "53\n",
      "Fizz\n",
      "Buzz\n",
      "56\n",
      "Fizz\n",
      "58\n",
      "59\n",
      "FizzBuzz\n",
      "61\n",
      "62\n",
      "Fizz\n",
      "64\n",
      "Buzz\n",
      "Fizz\n",
      "67\n",
      "68\n",
      "Fizz\n",
      "Buzz\n",
      "71\n",
      "Fizz\n",
      "73\n",
      "74\n",
      "FizzBuzz\n",
      "76\n",
      "77\n",
      "Fizz\n",
      "79\n",
      "Buzz\n",
      "Fizz\n",
      "82\n",
      "83\n",
      "Fizz\n",
      "Buzz\n",
      "86\n",
      "Fizz\n",
      "88\n",
      "89\n",
      "FizzBuzz\n",
      "91\n",
      "92\n",
      "Fizz\n",
      "94\n",
      "Buzz\n",
      "Fizz\n",
      "97\n",
      "98\n",
      "Fizz\n",
      "Buzz\n"
     ]
    }
   ],
   "source": [
    "#number = 0\n",
    "for number in range(1, 101):\n",
    "    if(number %3) == 0 and (number %5) == 0:\n",
    "        print('FizzBuzz')\n",
    "    elif(number %5) == 0:\n",
    "        print('Buzz')\n",
    "    elif (number % 3) == 0 :\n",
    "        print('Fizz')\n",
    "    else:\n",
    "        print(number)"
   ]
  },
  {
   "cell_type": "code",
   "execution_count": 79,
   "metadata": {},
   "outputs": [
    {
     "name": "stdout",
     "output_type": "stream",
     "text": [
      "Welcome to the PyPassword Generator!\n",
      "['U', 'X', 'e', 'y']\n",
      "['9', '5', '6', '8', '0', '2']\n",
      "[')', '&', '!']\n",
      "['U', 'X', 'e', 'y', '9', '5', '6', '8', '0', '2', ')', '&', '!']\n",
      "Your new password is UXey956802)&!\n"
     ]
    }
   ],
   "source": [
    "#Password Generator Project\n",
    "import random\n",
    "letters = ['a', 'b', 'c', 'd', 'e', 'f', 'g', 'h', 'i', 'j', 'k', 'l', 'm', 'n', 'o', 'p', 'q', 'r', 's', 't', 'u', 'v', 'w', 'x', 'y', 'z', 'A', 'B', 'C', 'D', 'E', 'F', 'G', 'H', 'I', 'J', 'K', 'L', 'M', 'N', 'O', 'P', 'Q', 'R', 'S', 'T', 'U', 'V', 'W', 'X', 'Y', 'Z']\n",
    "numbers = ['0', '1', '2', '3', '4', '5', '6', '7', '8', '9']\n",
    "symbols = ['!', '#', '$', '%', '&', '(', ')', '*', '+']\n",
    "\n",
    "print(\"Welcome to the PyPassword Generator!\")\n",
    "nr_letters= int(input(\"How many letters would you like in your password?\\n\")) \n",
    "nr_symbols = int(input(f\"How many symbols would you like?\\n\"))\n",
    "nr_numbers = int(input(f\"How many numbers would you like?\\n\"))\n",
    "\n",
    "#Eazy Level - Order not randomised:\n",
    "#e.g. 4 letter, 2 symbol, 2 number = JduE&!91\n",
    "let_pass = random.sample(letters,nr_letters)\n",
    "print(let_pass)\n",
    "num_pass = random.sample(numbers,nr_numbers)\n",
    "print(num_pass)\n",
    "sym_pass = random.sample(symbols,nr_symbols)\n",
    "print(sym_pass)\n",
    "password = let_pass + num_pass + sym_pass\n",
    "print(password)\n",
    "r = ''.join(password)\n",
    "print(f'Your new password is {r}')\n",
    "#Hard Level - Order of characters randomised:\n",
    "\n",
    "\n",
    "\n",
    "#e.g. 4 letter, 2 symbol, 2 number = g^2jk8&P"
   ]
  },
  {
   "cell_type": "code",
   "execution_count": 80,
   "metadata": {},
   "outputs": [
    {
     "name": "stdout",
     "output_type": "stream",
     "text": [
      "False\n"
     ]
    }
   ],
   "source": [
    "a = (1 << 53)+1\n",
    "print(a +1.0>a)"
   ]
  }
 ],
 "metadata": {
  "kernelspec": {
   "display_name": "Python 3.8.8 ('base')",
   "language": "python",
   "name": "python3"
  },
  "language_info": {
   "codemirror_mode": {
    "name": "ipython",
    "version": 3
   },
   "file_extension": ".py",
   "mimetype": "text/x-python",
   "name": "python",
   "nbconvert_exporter": "python",
   "pygments_lexer": "ipython3",
   "version": "3.8.8"
  },
  "orig_nbformat": 4,
  "vscode": {
   "interpreter": {
    "hash": "ef286fdfeb4c69657c9177c8dfa954b639cd3ec27c099f8a8135b810a92e4211"
   }
  }
 },
 "nbformat": 4,
 "nbformat_minor": 2
}
